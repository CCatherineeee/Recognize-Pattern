{
 "cells": [
  {
   "cell_type": "code",
   "execution_count": 18,
   "metadata": {},
   "outputs": [
    {
     "data": {
      "text/plain": [
       "0.34555637380519066"
      ]
     },
     "execution_count": 18,
     "metadata": {},
     "output_type": "execute_result"
    }
   ],
   "source": [
    "import pandas as pd \n",
    "import numpy as np\n",
    "laughter = pd.read_csv('./laughter-corpus.csv')\n",
    "\n",
    "female_laugh = laughter.loc[laughter['Role']=='Caller']\n",
    "male_laugh = laughter.loc[laughter['Role']=='Receiver']\n",
    "\n",
    "\n",
    "female_laugh.values[:,-1].mean()\n",
    "male_laugh.values[:,-1].mean()\n",
    "# female_laugh_num = len(laughter.loc[laughter['Role']=='Caller'])\n",
    "# male_laugh_num = len(laughter.loc[laughter['Role']=='Receiver'])\n",
    "\n",
    "# print(\"Number of Female laughter events: \"+str(female_laugh_num))\n",
    "# print(\"Number of Male laughter events: \"+str(male_laugh_num))"
   ]
  },
  {
   "cell_type": "code",
   "execution_count": 20,
   "metadata": {},
   "outputs": [
    {
     "name": "stdout",
     "output_type": "stream",
     "text": [
      "卡方值: 1.5179359121252989\n",
      "P值: 0.21793211868336893\n",
      "样本 A 和 B 之间差异不显著\n"
     ]
    }
   ],
   "source": [
    "from scipy.stats import chi2_contingency\n",
    "observed_values = np.array([[496, 346],[63,57]])\n",
    "chi2, p, _, _ = chi2_contingency(observed_values)\n",
    "print(f\"卡方值: {chi2}\")\n",
    "print(f\"P值: {p}\")\n",
    "\n",
    "# 根据 P 值判断是否显著\n",
    "alpha = 0.05\n",
    "if p < alpha:\n",
    "    print(\"在显著水平 0.05 下，样本 A 和 B 之间存在显著差异\")\n",
    "else:\n",
    "    print(\"样本 A 和 B 之间差异不显著\")"
   ]
  }
 ],
 "metadata": {
  "kernelspec": {
   "display_name": "base",
   "language": "python",
   "name": "python3"
  },
  "language_info": {
   "codemirror_mode": {
    "name": "ipython",
    "version": 3
   },
   "file_extension": ".py",
   "mimetype": "text/x-python",
   "name": "python",
   "nbconvert_exporter": "python",
   "pygments_lexer": "ipython3",
   "version": "3.9.13"
  }
 },
 "nbformat": 4,
 "nbformat_minor": 2
}
